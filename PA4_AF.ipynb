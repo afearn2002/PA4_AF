{
 "cells": [
  {
   "cell_type": "markdown",
   "id": "9c143f25",
   "metadata": {},
   "source": [
    "# Programming Assignment 4\n",
    "## By Aidan Fearn\n",
    "### CS-150-01\n",
    "#### Version 1"
   ]
  },
  {
   "cell_type": "markdown",
   "id": "47d47b3d",
   "metadata": {},
   "source": [
    "# Task 1"
   ]
  },
  {
   "cell_type": "code",
   "execution_count": 23,
   "id": "ed3ac5bf",
   "metadata": {},
   "outputs": [
    {
     "name": "stdout",
     "output_type": "stream",
     "text": [
      "The average grade is: 74.6%\n",
      "The grade is a C\n"
     ]
    }
   ],
   "source": [
    "grades=[45,78,65,89,96]\n",
    "x=(sum(grades)/len(grades))\n",
    "print(f\"The average grade is: {x}%\")\n",
    "if x>=90 and x<=100:\n",
    "    print(\"The grade is an A\")\n",
    "elif x<90 and x>=80:\n",
    "    print(\"The grade is a B\")\n",
    "elif x<80 and x>=70:\n",
    "    print(\"The grade is a C\")\n",
    "elif x<70 and x>=60:\n",
    "    print(\"The grade is a D\")\n",
    "elif x>100 and x<0:\n",
    "    print(\"Please reinput your grades in the list\")\n",
    "else:\n",
    "    print(\"The grade is an F\")\n"
   ]
  },
  {
   "cell_type": "markdown",
   "id": "9feb5b35",
   "metadata": {},
   "source": [
    "# Task 2"
   ]
  },
  {
   "cell_type": "code",
   "execution_count": 21,
   "id": "6b0581bc",
   "metadata": {},
   "outputs": [
    {
     "name": "stdout",
     "output_type": "stream",
     "text": [
      "The student is an adult\n"
     ]
    }
   ],
   "source": [
    "student=('Aidan', 'Fearn', int('21'), 'Econ')\n",
    "name, last_name, age, subject=student\n",
    "if age>18:\n",
    "    print(f\"The student is an adult\")\n",
    "else:\n",
    "    print(f\"The student is a minor\")"
   ]
  },
  {
   "cell_type": "markdown",
   "id": "7bd745b7",
   "metadata": {},
   "source": [
    "# Task 3"
   ]
  },
  {
   "cell_type": "code",
   "execution_count": 45,
   "id": "e5bdd352",
   "metadata": {},
   "outputs": [
    {
     "name": "stdout",
     "output_type": "stream",
     "text": [
      "Enter a value from 1-12: 10\n",
      "The month is October and there are 31 days in October\n"
     ]
    }
   ],
   "source": [
    "months=int(input(\"Enter a value from 1-12: \"))\n",
    "if months>12:\n",
    "    print(\"Please use a vlue within the range 1-12\")\n",
    "elif months==1:\n",
    "    print(\"The month is January and there are 31 days in January\")\n",
    "elif months==2:\n",
    "    print(\"The month is February and there are 28 days in February\")\n",
    "elif months==3:\n",
    "    print(\"The month is March and there are 31 days in March\")\n",
    "elif months==4:\n",
    "    print(\"The month is April and there are 30 days in April\")\n",
    "elif months==5:\n",
    "    print(\"The month is May and there are 31 days in May\")\n",
    "elif months==6:\n",
    "    print(\"The month is June and there are 30 days in June\")\n",
    "elif months==7:\n",
    "    print(\"The month is July and there are 31 days in July\")\n",
    "elif months==8:\n",
    "    print(\"The month is August and there are 31 days in August\")\n",
    "elif months==9:\n",
    "    print(\"The month is September and there are 30 days in September\")\n",
    "elif months==10:\n",
    "    print(\"The month is October and there are 31 days in October\")\n",
    "elif months==11:\n",
    "    print(\"The month is November and there are 30 days in November\")\n",
    "elif months==12:\n",
    "    print(\"The month is December and there are 30 days in December\")\n",
    "else:\n",
    "    print(\"Please enter a value within the range 1-12\")"
   ]
  },
  {
   "cell_type": "markdown",
   "id": "7be05b51",
   "metadata": {},
   "source": [
    "# Task 4"
   ]
  },
  {
   "cell_type": "code",
   "execution_count": 50,
   "id": "403fcef7",
   "metadata": {},
   "outputs": [
    {
     "name": "stdout",
     "output_type": "stream",
     "text": [
      "The length in cm of the first side is: 12\n",
      "The length in cm of the second side is: 23\n",
      "The length in cm of the third side is: 44\n",
      "This is a scalene triangle\n"
     ]
    }
   ],
   "source": [
    "side1=float(input(\"The length in cm of the first side is: \"))\n",
    "side2=float(input(\"The length in cm of the second side is: \"))\n",
    "side3=float(input(\"The length in cm of the third side is: \"))\n",
    "if side1==side2 and side2==side3:\n",
    "    print(\"This is an equilateral triangle\")\n",
    "elif side1!=side2 and side2!=side3 and side3!=side1:\n",
    "    print(\"This is a scalene triangle\")\n",
    "elif side1==side2 and side1!=side3:\n",
    "    print(\"This is an isoceles triangle\")\n",
    "elif side2==side3 and side2!=side1:\n",
    "    print(\"This is an isoceles triangle\")\n",
    "elif side1==side3 and side1!=side2:\n",
    "    print(\"This is an isoceles triangle\")\n",
    "else:\n",
    "    print(\"This is not a triangle\")"
   ]
  },
  {
   "cell_type": "markdown",
   "id": "7847bd64",
   "metadata": {},
   "source": [
    "# Task 5"
   ]
  },
  {
   "cell_type": "code",
   "execution_count": 8,
   "id": "37eee9fb",
   "metadata": {},
   "outputs": [
    {
     "name": "stdout",
     "output_type": "stream",
     "text": [
      "[21, 22, 23, 24, 25, 26, 27, 28, 29, 30, 31, 32, 33, 34, 35, 36, 37, 38, 39, 40]\n"
     ]
    }
   ],
   "source": [
    "numbers=[]\n",
    "for n in range(21,41):\n",
    "    numbers.append(n)\n",
    "print(numbers)"
   ]
  },
  {
   "cell_type": "code",
   "execution_count": 20,
   "id": "82dc2a36",
   "metadata": {},
   "outputs": [
    {
     "name": "stdout",
     "output_type": "stream",
     "text": [
      "[484, 576, 676, 784, 900, 1024, 1156, 1296, 1444, 1600]\n"
     ]
    }
   ],
   "source": [
    "even_squares=[n**2 for n in numbers if n%2==0]\n",
    "print(even_squares)"
   ]
  },
  {
   "cell_type": "code",
   "execution_count": 21,
   "id": "c4b3ce14",
   "metadata": {},
   "outputs": [
    {
     "name": "stdout",
     "output_type": "stream",
     "text": [
      "[9261, 12167, 15625, 19683, 24389, 29791, 35937, 42875, 50653, 59319]\n"
     ]
    }
   ],
   "source": [
    "odd_cubes=[n**3 for n in numbers if n%2==1]\n",
    "print(odd_cubes)"
   ]
  }
 ],
 "metadata": {
  "kernelspec": {
   "display_name": "Python 3 (ipykernel)",
   "language": "python",
   "name": "python3"
  },
  "language_info": {
   "codemirror_mode": {
    "name": "ipython",
    "version": 3
   },
   "file_extension": ".py",
   "mimetype": "text/x-python",
   "name": "python",
   "nbconvert_exporter": "python",
   "pygments_lexer": "ipython3",
   "version": "3.11.4"
  }
 },
 "nbformat": 4,
 "nbformat_minor": 5
}
